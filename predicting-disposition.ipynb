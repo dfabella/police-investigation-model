{
 "cells": [
  {
   "cell_type": "markdown",
   "metadata": {},
   "source": [
    "# Predicting the CCRB's Disposition of an Investigation\n",
    "\n",
    "Daphne Fabella"
   ]
  },
  {
   "cell_type": "markdown",
   "metadata": {},
   "source": [
    "## Summary of Findings\n",
    "\n",
    "\n",
    "### Introduction\n",
    "\n",
    "#### ***The Prediction Problem***: Predict whether the CCRB will Rule an Investigation as Substantiated.\n",
    "*What's the response variable?*\n",
    "   - **The CCRB's disposition of an investigation, particularly if it is \"Substantiated\"**\n",
    "        - In prior analysis of complaints filed against the NYPD, I conducted a hypothesis test which compared the distribution of CCRB rulings per complainant ethnicity to help answer the question \"*Does a complainant's ethnicity influence the CCRB disposition of their allegation?*\": the difference between distributions suggested that **complainant ethnicity was not independent from the CCRB disposition of their allegation**. This idea inspired the creation of a binary classifier model that utilitzes patterns within the complaint data to give insight into whether the CCRB will substantiate a complaint case after investigation. This predictive model that can tell whether a case will result in some sort of consequence for the officer under allegation can motivate a more careful, attentive investigation or spark further exploration into why certain complaints are substantiated while others are not.\n",
    "\n",
    "*What's the metric being used to evaluate the model?*\n",
    "-  **Recall**\n",
    "    - False negatives which wrongly classify a case as \"Unsubstatiated\" underestimates the severity of a complaint, which could possibly frame an investigation as \"unnecessary\" and lead to the remission of an officer who exhibited disorderly conduct with a civillian. False positives which wrongly classify a case as \"Substantiated\", however, would incite further invesigation to help guide the CCRB to a fair & just ruling that is more closely reflective of the case's severity. Hence, the consequences of false negatives prove detrimental. Metrics such as accuracy and F1-score also provide insight to how many false classifications are made, but they do not provide insight to the type of false classifications made by the model! However, by using recall as a metric for model evaluation, we can see how many false negatives are made and minimize the number of such wrongly unsubstantiated investigations. \n",
    "    \n",
    "*What features are being used?*  \n",
    "- All information that would be known at the time of prediction were considered as potential features, while the following were disqualified: \n",
    "    - rank_abbrev_now & rank_now\n",
    "    - command_now \n",
    "    - month_closed\n",
    "    - year_closed  \n",
    "    \n",
    "  The officer's rank and command after the investigation closed would not be available before the CCRB makes their final ruling. The month and year a case closes would only be known after the CCRB's disposition is made.\n",
    "        \n",
    "### Baseline Model\n",
    "\n",
    "##### Classifier: Logistic Regression\n",
    "\n",
    "*What features were used?*\n",
    "- `rank_incident`the officer's rank at the time of incident (qualitative)\n",
    "- `mos_ethnicity` the officer's ethnicity (qualitative)\n",
    "- `complainant_ethnicity` the complainant's ethnicity (qualitative)\n",
    "- `outcome_description` the outcome of the interaction between the officer and complainant (qualitative)\n",
    " \n",
    " All of the above were encoded via one-hot encoding using a OneHotEncoder() fitted into a Pipeline object.\n",
    " \n",
    "*Model Performance*\n",
    " - Recall: ~42.7%\n",
    " - Precision: ~33.3%\n",
    " - Accuracy:  ~65.3%\n",
    "  \n",
    "  \n",
    "  **Summary** The model had poor performance, as its low recall signifies a high rate of false negarives, or wrongly unsubstantiated cases and it only classified observations correctly about 65% of the time.  \n",
    "  *Note: since the data is imbalanced, however, the low accuracy is not as crucial toward model evaluation*\n",
    "\n",
    "### Final Model\n",
    "\n",
    "##### Classifier: Logistic Regressor\n",
    "\n",
    "*What features were added?*\n",
    "- `contact_reason` reason of interaction between officer and complainant\n",
    "- `allegation` specific complaint type\n",
    "\n",
    " All of the above were encoded via one-hot encoding using a OneHotEncoder() fitted into a Pipeline object.  \n",
    " \n",
    " I performed a hypothesis test for the reason of interaction between officer and complainant under the motivating question: \"Is this information independent from whether a case is substantiated?\". The differences between the distributions of `contact_reason` for substantiated and not substantiated cases were statistically significant, suggesting it is likely to be useful in predicting the CCRB's disposition of a given investigation.\n",
    " \n",
    " For the specific complaint type, I performed exploratory data analysis that resulted in an interesting finding:\n",
    " The distribution of CCRB dispositions for the top 5 most common allegations exhibited stark visual differences:\n",
    " - of allegations under Physical force, most investigations are Exonerated \n",
    " - of allegations under Word, most investigations are Unsubstantiated\n",
    " - of allegations under Stop, most investigations are Substantiated\n",
    " - of allegations under Search (of person), most investigations are Unsubstantiated\n",
    " - of allegations under Frisk, most investigations are under Sunstantiated  \n",
    " \n",
    " Under the intuition that complaints filed under specific types are more likely to be substantiated or not substantiated, `allegation` seemed like a useful feature in predicting the CCRB disposition.\n",
    "\n",
    "*Model Selection*  \n",
    "\n",
    " After tuning hyperparameters for three classifiers (LogisticRegression(), DecisionTreeClassifier(), RandomForestClassifier()), each were fitted to the training data for model evaluation. Each model was compared based on their recall score, and the classifier with the highest recall was selected as the final model.\n",
    "\n",
    "- Classifier: Logistic Regressor\n",
    "- Hyperparameters: `C=100`, `max_iter=600`\n",
    "- Model Selection: `GridSearchCV(scoring='recall')`\n",
    "\n",
    "*Model Performance*\n",
    "- Recall: ~54.4% (+11.7%)\n",
    "- Precision: ~42.5% (+9.2%)\n",
    "- Accuracy: ~71.2% (+5.9%)\n",
    "\n",
    "### Fairness Analysis\n",
    "*What groups were evaluated to assess model fairness?*  \n",
    "  \n",
    " Black complainants make up the largest category of complainants and are typically over-represented in cases of police brutality.  \n",
    " Does the model perform differently for Black and non-Black complainants?\n",
    "\n",
    "*Testing Structure*\n",
    "- Null Hypothesis: The model is fair. Its recall for Black complainants and non-Black complainants are roughly the same, and any differences are due to random chance.\n",
    "\n",
    "- Alternative Hypothesis: The model is unfair. Its recall for Black complainants and non-Black complainants are not the same.\n",
    "\n",
    "- $\\alpha =  0.05$\n",
    "\n",
    "- p-value = 0.51\n",
    "\n",
    " *Summary:* Since the p-value is higher than our significance level of 0.05, we fail to reject the null hypothesis which suggests that the model is fair."
   ]
  },
  {
   "cell_type": "markdown",
   "metadata": {},
   "source": [
    "## Code"
   ]
  },
  {
   "cell_type": "code",
   "execution_count": 7,
   "metadata": {},
   "outputs": [],
   "source": [
    "import matplotlib.pyplot as plt\n",
    "import numpy as np\n",
    "import os\n",
    "import pandas as pd\n",
    "import seaborn as sns\n",
    "%config InlineBackend.figure_format = 'retina'  # Higher resolution figures"
   ]
  },
  {
   "cell_type": "markdown",
   "metadata": {},
   "source": [
    "### Baseline Model"
   ]
  },
  {
   "cell_type": "code",
   "execution_count": 8,
   "metadata": {},
   "outputs": [],
   "source": [
    "cc_fp = os.path.join('data', 'allegations_202007271729.csv')\n",
    "cc = pd.read_csv(cc_fp)"
   ]
  },
  {
   "cell_type": "markdown",
   "metadata": {},
   "source": [
    "#### Preprocessing: Cleaning the Data\n",
    "*Description:* The filed NYPD complaints contains data unsuitable to use as features for our predictive model, so we will filter only for qualifying data; all features must be information that would be available before the CCRB makes its final disposition and they must not cause multicollinearity.  \n",
    "  \n",
    "  *Note that all encoding will occur during model development.*"
   ]
  },
  {
   "cell_type": "code",
   "execution_count": 140,
   "metadata": {},
   "outputs": [],
   "source": [
    "# ------------------------------------\n",
    "# STEP 1: REMOVE ANY INFORMATION WE WOULD NOT HAVE BEFORE THE CCRB'S FINAL DISPOSITION + ANY MULTICOLLINEARITY\n",
    "# ------------------------------------\n",
    "to_remove = ['unique_mos_id', 'shield_no','rank_abbrev_now', 'rank_now', 'rank_abbrev_incident', \n",
    "             'command_now','first_name', 'last_name', 'complaint_id', 'board_disposition', 'year_closed', 'month_closed']\n",
    "features = [feature for feature in cc.columns if feature not in to_remove]"
   ]
  },
  {
   "cell_type": "code",
   "execution_count": 10,
   "metadata": {},
   "outputs": [],
   "source": [
    "# create a dataframe with ONLY the columns useable as features ( -> 'features dataframe')\n",
    "cc_features = cc.loc[:, features]"
   ]
  },
  {
   "cell_type": "markdown",
   "metadata": {},
   "source": [
    "#### Developing the Model"
   ]
  },
  {
   "cell_type": "code",
   "execution_count": 12,
   "metadata": {},
   "outputs": [],
   "source": [
    "# one-hot encode the CCRB dispositions (1-Substantiated, 0-Not Substantiated)\n",
    "substantiated = 'Substantiated'\n",
    "substaniated_dispositions = cc['board_disposition'][cc['board_disposition'].str[:len(substantiated)] == substantiated].unique()\n",
    "disposition_actual = cc['board_disposition'].replace(['Unsubstantiated', 'Exonerated'], 0).replace(substaniated_dispositions, 1)"
   ]
  },
  {
   "cell_type": "markdown",
   "metadata": {},
   "source": [
    "##### I. Splitting the Data"
   ]
  },
  {
   "cell_type": "code",
   "execution_count": 13,
   "metadata": {},
   "outputs": [],
   "source": [
    "# ------------------------------------\n",
    "# STEP 1: SPLIT INTO TRAINING AND TESTING DATA\n",
    "# ------------------------------------\n",
    "from sklearn.model_selection import train_test_split\n",
    "\n",
    "\n",
    "# training data\n",
    "X_train = cc_features.sample(frac=0.75, random_state=1)\n",
    "y_train = disposition_actual[X_train.index]\n",
    "\n",
    "# testing data (drop nans!)\n",
    "test_data_ix = [test_data for test_data in cc_features.index if test_data not in X_train.index]\n",
    "X_test = cc_features.iloc[test_data_ix, :].dropna()\n",
    "y_test = disposition_actual[X_test.index]"
   ]
  },
  {
   "cell_type": "code",
   "execution_count": 14,
   "metadata": {},
   "outputs": [
    {
     "data": {
      "text/plain": [
       "month_received              0.000000\n",
       "year_received               0.000000\n",
       "command_at_incident         0.045647\n",
       "rank_incident               0.000000\n",
       "mos_ethnicity               0.000000\n",
       "mos_gender                  0.000000\n",
       "mos_age_incident            0.000000\n",
       "complainant_ethnicity       0.132704\n",
       "complainant_gender          0.124550\n",
       "complainant_age_incident    0.142457\n",
       "fado_type                   0.000000\n",
       "allegation                  0.000040\n",
       "precinct                    0.000919\n",
       "contact_reason              0.005836\n",
       "outcome_description         0.001799\n",
       "dtype: float64"
      ]
     },
     "execution_count": 14,
     "metadata": {},
     "output_type": "execute_result"
    }
   ],
   "source": [
    "X_train.apply(lambda df: df.isna()).mean() # high proportion of missing values for complainant ethnicity implies need for imputation"
   ]
  },
  {
   "cell_type": "markdown",
   "metadata": {},
   "source": [
    "##### II. Imputation"
   ]
  },
  {
   "cell_type": "code",
   "execution_count": 15,
   "metadata": {},
   "outputs": [],
   "source": [
    "def add_labels(axis, title, x, y):\n",
    "    '''adds title, x-axis label and y-axis label to plot'''\n",
    "    axis.set_title(title)\n",
    "    axis.set_xlabel(x)\n",
    "    axis.set_ylabel(y)\n",
    "    return "
   ]
  },
  {
   "cell_type": "code",
   "execution_count": 16,
   "metadata": {},
   "outputs": [],
   "source": [
    "def tvd(a, b):\n",
    "    '''Finds the TVD between the two given distributions'''\n",
    "    return np.sum(np.abs(a-b)) / 2"
   ]
  },
  {
   "cell_type": "code",
   "execution_count": 17,
   "metadata": {},
   "outputs": [
    {
     "name": "stdout",
     "output_type": "stream",
     "text": [
      "TVD between the distributions for each officer ethnicity: 0.09170866339355023\n"
     ]
    }
   ],
   "source": [
    "# the 'null_compl_ethn' column stores whether the complainant ethnicity is mising \n",
    "X_train['null_compl_ethn'] = X_train['complainant_ethnicity'].isna()\n",
    "\n",
    "# find the number of missing complainant ethnicities within each type of officer ethnicity\n",
    "ethnicity_missingness = (\n",
    "    X_train\n",
    "    .pivot_table(\n",
    "        index='mos_ethnicity', \n",
    "        columns='null_compl_ethn', \n",
    "        aggfunc='size')\n",
    ")\n",
    "\n",
    "# normalize the number of missing complainant ethnicities \n",
    "ethnicity_missingness = (ethnicity_missingness / ethnicity_missingness.sum()).fillna(0)\n",
    "\n",
    "# find tvd\n",
    "tvd1 = tvd(ethnicity_missingness[True], ethnicity_missingness[False])\n",
    "print(f'TVD between the distributions for each officer ethnicity: {tvd1}')"
   ]
  },
  {
   "cell_type": "code",
   "execution_count": 18,
   "metadata": {},
   "outputs": [],
   "source": [
    "# -------------------------------------------------------------------------------\n",
    "# PERMUTATION TEST\n",
    "# -------------------------------------------------------------------------------\n",
    "var1_tvds = []\n",
    "\n",
    "for _ in range(1000):\n",
    "    # shuffle the missingness of complainant ethnicity\n",
    "    shuffled_null = (\n",
    "        X_train['complainant_ethnicity'].isna()\n",
    "        .sample(frac=1)\n",
    "        .reset_index(drop=True)\n",
    "    )\n",
    "\n",
    "    original_and_shuffled = (\n",
    "        X_train\n",
    "        .assign(**{'Shuffled Null' : shuffled_null})\n",
    "    )\n",
    "\n",
    "    # find the tvd\n",
    "    var1_sim = original_and_shuffled.pivot_table(index='mos_ethnicity', columns='Shuffled Null', aggfunc='size')\n",
    "    var1_sim = (var1_sim / var1_sim.sum()).fillna(0)\n",
    "    var1_tvd = tvd(var1_sim[True], var1_sim[False])\n",
    "    var1_tvds.append(var1_tvd)"
   ]
  },
  {
   "cell_type": "code",
   "execution_count": 19,
   "metadata": {},
   "outputs": [
    {
     "name": "stdout",
     "output_type": "stream",
     "text": [
      "p-value (0.0) suggests that the missingness mechanism of complainant_ethnicity is MAR on mos_ethnicity!\n"
     ]
    }
   ],
   "source": [
    "p_val1 = (var1_tvds >= tvd1).mean()\n",
    "\n",
    "if p_val1 < 0.01:\n",
    "    results = 'MAR' \n",
    "else:\n",
    "    results = 'NMAR'\n",
    "\n",
    "print(f'p-value ({p_val1}) suggests that the missingness mechanism of complainant_ethnicity is {results} on mos_ethnicity!')"
   ]
  },
  {
   "cell_type": "code",
   "execution_count": 20,
   "metadata": {},
   "outputs": [],
   "source": [
    "# -------------------------------------------------------------------------------\n",
    "# PERFORM IMPUTATION ON TRAINING DATA\n",
    "# -------------------------------------------------------------------------------\n",
    "X_train_filled = X_train.copy()\n",
    "all_fill_values = {}\n",
    "\n",
    "for officer_ethnicity in X_train['mos_ethnicity'].unique():\n",
    "    # filter for observations with given officer ethnicity\n",
    "    by_mos_ethnicity = X_train.groupby('mos_ethnicity').get_group(officer_ethnicity)\n",
    "\n",
    "    # get number of null complainant ethnicities\n",
    "    nulls = by_mos_ethnicity['complainant_ethnicity'].isna()\n",
    "    num_null = nulls.sum()\n",
    "\n",
    "    # get sample to fill missing values with\n",
    "    fill_values = by_mos_ethnicity.dropna()['complainant_ethnicity'].sample(num_null)\n",
    "\n",
    "    # get index of missing complainant ethnicities\n",
    "    fill_values.index = by_mos_ethnicity[nulls].index\n",
    "\n",
    "    # fill missing complainant ethnicities\n",
    "    all_fill_values.update(fill_values)"
   ]
  },
  {
   "cell_type": "code",
   "execution_count": 21,
   "metadata": {},
   "outputs": [],
   "source": [
    "X_train_filled = X_train.fillna({'complainant_ethnicity': all_fill_values}).drop(columns=['null_compl_ethn'])  # fill the vals"
   ]
  },
  {
   "cell_type": "code",
   "execution_count": 22,
   "metadata": {},
   "outputs": [],
   "source": [
    "# drop nans from outcome_description \n",
    "X_train_filled = X_train_filled.dropna()\n",
    "y_train = y_train[X_train_filled.index]"
   ]
  },
  {
   "cell_type": "markdown",
   "metadata": {},
   "source": [
    "##### III. Fitting the Data & Making Predictions"
   ]
  },
  {
   "cell_type": "code",
   "execution_count": 23,
   "metadata": {},
   "outputs": [],
   "source": [
    "from sklearn.pipeline import Pipeline\n",
    "from sklearn.preprocessing import OneHotEncoder\n",
    "from sklearn.linear_model import LogisticRegression\n",
    "from sklearn.tree import DecisionTreeClassifier\n",
    "from sklearn.ensemble import RandomForestClassifier\n",
    "from sklearn import metrics\n",
    "from sklearn.metrics import recall_score, precision_score, accuracy_score"
   ]
  },
  {
   "cell_type": "code",
   "execution_count": 24,
   "metadata": {},
   "outputs": [],
   "source": [
    "# we will use the same training data and testing data for the base model and final model\n",
    "\n",
    "# the base model will only use these certain features\n",
    "baseline_features = ['rank_incident', 'mos_ethnicity', 'complainant_ethnicity', 'outcome_description']"
   ]
  },
  {
   "cell_type": "code",
   "execution_count": 86,
   "metadata": {},
   "outputs": [],
   "source": [
    "# create pipeline\n",
    "pl = Pipeline([\n",
    "    ('one-hot', OneHotEncoder(handle_unknown='ignore')), # all baseline features are nominal data\n",
    "     ('log-reg', LogisticRegression(max_iter=400)) # need a high max-iter\n",
    "])\n",
    "\n",
    "# fit model\n",
    "log_reg = pl.fit(X_train_filled[baseline_features], y_train)"
   ]
  },
  {
   "cell_type": "code",
   "execution_count": 87,
   "metadata": {},
   "outputs": [],
   "source": [
    "# find predictions at threshold 0.3\n",
    "y_probs = log_reg.predict_proba(X_test[baseline_features])[: ,1]\n",
    "y_pred = np.array([1 if y_prob > 0.3 else 0 for y_prob in y_probs])"
   ]
  },
  {
   "cell_type": "code",
   "execution_count": 88,
   "metadata": {},
   "outputs": [
    {
     "name": "stdout",
     "output_type": "stream",
     "text": [
      "recall: 0.4561091340450771\n",
      "precision: 0.3356612832824094\n",
      "accuracy: 0.6500717360114777\n"
     ]
    }
   ],
   "source": [
    "print(f'recall: {recall_score(y_test, y_pred)}')\n",
    "print(f'precision: {precision_score(y_test, y_pred)}')\n",
    "print(f'accuracy: {accuracy_score(y_test, y_pred)}')"
   ]
  },
  {
   "cell_type": "markdown",
   "metadata": {},
   "source": [
    "### Final Model"
   ]
  },
  {
   "cell_type": "code",
   "execution_count": 32,
   "metadata": {},
   "outputs": [],
   "source": [
    "from sklearn.preprocessing import StandardScaler\n",
    "from sklearn.compose import ColumnTransformer\n",
    "from sklearn.model_selection import GridSearchCV"
   ]
  },
  {
   "cell_type": "markdown",
   "metadata": {},
   "source": [
    "##### I. Preface"
   ]
  },
  {
   "cell_type": "markdown",
   "metadata": {},
   "source": [
    "*Step 1a:* Feature Selection (potential feature: `contact_reason`)"
   ]
  },
  {
   "cell_type": "markdown",
   "metadata": {},
   "source": [
    "- **Alternative Hypothesis:** Board disposition is not independent from the reason of contact between the officer and complainant\n",
    "    - The distribution of contact reasons for substantiated and the distribution of contact reasons for not substantiated cases ***do not*** come from the same distribution\n",
    "- **Null Hypothesis:** Board disposition is independent from the reason of contact between the officer and complainant\n",
    "    - The distribution of contact reasons for substantiated and the distribution of contact reasons for not substantiated cases ***do*** come from the same distribution"
   ]
  },
  {
   "cell_type": "code",
   "execution_count": 34,
   "metadata": {},
   "outputs": [],
   "source": [
    "cc_features['board_disposition'] = disposition_actual\n",
    "on_contact_reason = (\n",
    "    cc_features.pivot_table(\n",
    "        index='board_disposition',\n",
    "        columns='contact_reason',\n",
    "        values='allegation',\n",
    "        aggfunc='count')\n",
    "        .transform(                                      \n",
    "            lambda disposition_count: disposition_count / disposition_count.sum(), axis=1)\n",
    "        .fillna(0)\n",
    ")\n",
    "\n",
    "obs_tvd_contact_reason = tvd(on_contact_reason.iloc[0], on_contact_reason.iloc[1])"
   ]
  },
  {
   "cell_type": "code",
   "execution_count": 35,
   "metadata": {},
   "outputs": [],
   "source": [
    "# -------------------------------------------------------------------------------\n",
    "# PERMUTATION TEST\n",
    "# -------------------------------------------------------------------------------\n",
    "var1_tvds = []\n",
    "\n",
    "for _ in range(1000):\n",
    "    # shuffle the board disposition\n",
    "    shuffled_null = (\n",
    "        disposition_actual\n",
    "        .sample(frac=1)\n",
    "        .reset_index(drop=True)\n",
    "    )\n",
    "\n",
    "    original_and_shuffled = (\n",
    "        cc_features[['contact_reason', 'allegation']]\n",
    "        .assign(**{'Shuffled Disposition' : shuffled_null})\n",
    "    )\n",
    "\n",
    "    # find the tvd\n",
    "    var1_sim = (\n",
    "        original_and_shuffled.pivot_table(index='Shuffled Disposition', columns='contact_reason', aggfunc='count')\n",
    "        .transform(                                      \n",
    "            lambda disposition_count: disposition_count / disposition_count.sum(), axis=1)\n",
    "        .fillna(0)\n",
    "    )\n",
    "    var1_tvd = tvd(var1_sim.iloc[0], var1_sim.iloc[1])\n",
    "    var1_tvds.append(var1_tvd)"
   ]
  },
  {
   "cell_type": "code",
   "execution_count": 36,
   "metadata": {
    "scrolled": true
   },
   "outputs": [
    {
     "data": {
      "text/plain": [
       "0.0"
      ]
     },
     "execution_count": 36,
     "metadata": {},
     "output_type": "execute_result"
    }
   ],
   "source": [
    "np.mean(var1_tvds >= obs_tvd_contact_reason) # p-value"
   ]
  },
  {
   "cell_type": "markdown",
   "metadata": {},
   "source": [
    "Results of hypothesis test: Since the p-value is less than 0.01, we reject the null in favor of the alternative, which suggests that the reason of contact between an officer and the complainant is not independent from whether a case is substantiated.\n",
    "\n",
    "*Implication:*  `contact_reason` can be used as a feature"
   ]
  },
  {
   "cell_type": "markdown",
   "metadata": {},
   "source": [
    "*Step 1b:* Feature Selection (potential feature: `allegation`)\n",
    "*via EDA*"
   ]
  },
  {
   "cell_type": "code",
   "execution_count": 37,
   "metadata": {},
   "outputs": [],
   "source": [
    "#-------------------------------------------------------------------------------\n",
    "# replace 'Unknown' fields in the 'Race' column to nulls\n",
    "#-------------------------------------------------------------------------------\n",
    "cc_with_description = cc.replace('Unknown', np.nan)"
   ]
  },
  {
   "cell_type": "code",
   "execution_count": 38,
   "metadata": {},
   "outputs": [
    {
     "data": {
      "image/png": "[encoded data removed]",
      "text/plain": [
       "<Figure size 432x288 with 1 Axes>"
      ]
     },
     "metadata": {
      "image/png": {
       "height": 360,
       "width": 756
      },
      "needs_background": "light"
     },
     "output_type": "display_data"
    }
   ],
   "source": [
    "# found in previous eda \n",
    "top_5_allegations = ['Physical force', 'Word', 'Stop', 'Search (of person)', 'Frisk']\n",
    "\n",
    "# STEP 1: \"condense\" the different levels of severity for substantiated cases\n",
    "disposition_types = cc_with_description['board_disposition'].unique() # find all the dispos. types\n",
    "substantiated = (\n",
    "    disposition_types\n",
    "    [~((disposition_types == 'Exonerated') | (disposition_types == 'Unsubstantiated'))]\n",
    ") # finds all types of substantiated cases\n",
    "\n",
    "# STEP 2: find the frequency of how the CCRB rules each type of complaint category\n",
    "allegation_vs_board_dispos = pd.pivot_table(\n",
    "    data=cc_with_description.replace(substantiated, 'Substantiated'), # all types of substantiated \n",
    "                                                                      # cases fall under 'Substantiated'\n",
    "    index='allegation',\n",
    "    values ='command_now',\n",
    "    columns='board_disposition',\n",
    "    aggfunc='count').fillna(0)\n",
    "\n",
    "# STEP 3: (there's a lot of complaint categories) filters for the top 5 complaint categories\n",
    "# and normalizes the frequency of the CCRB disposition with respect to the complaint category\n",
    "top_allegation_vs_board_dispos = (\n",
    "    allegation_vs_board_dispos\n",
    "    .loc[top_5_allegations, :] # these were found during Univariate Analysis!                                                           \n",
    "    .fillna(0)\n",
    "    .transform(                                      \n",
    "        lambda disposition_count: disposition_count / disposition_count.sum(), axis=1)\n",
    ").fillna(0)\n",
    "\n",
    "top_allegation_vs_board_dispos_plt = top_allegation_vs_board_dispos.plot(kind='bar')\n",
    "\n",
    "add_labels(\n",
    "    top_allegation_vs_board_dispos_plt,\n",
    "    'Distribution of CCRB Dispositions For Most Common Contact Outcomes that Result in Complaint Instances of Physical Force',\n",
    "    'Contact Outcome',\n",
    "    'Frequency of Board Disposition'\n",
    ")"
   ]
  },
  {
   "cell_type": "markdown",
   "metadata": {},
   "source": [
    "Here, we can compare how the CCRB ruled the top 5 most common types of filed allegations.\n",
    "- of allegations under Physical force, most investigations are Exonerated \n",
    "- of allegations under Word, most investigations are Unsubstantiated\n",
    "- of allegations under Stop, most investigations are Substantiated\n",
    "- of allegations under Search (of person), most investigations are Unsubstantiated\n",
    "- of allegations under Frisk, most investigations are under Sunstantiated\n",
    "\n",
    "*Implication:* The stark visual difference between distribution implies that `allegation` may be useful in predicting CCRB disposition"
   ]
  },
  {
   "cell_type": "markdown",
   "metadata": {},
   "source": [
    "***Final Features yay!***"
   ]
  },
  {
   "cell_type": "code",
   "execution_count": 39,
   "metadata": {},
   "outputs": [],
   "source": [
    "final_features = baseline_features + ['contact_reason', 'allegation'] # adding our new features to the test data"
   ]
  },
  {
   "cell_type": "markdown",
   "metadata": {},
   "source": [
    "##### II. Tuning Hyperparameters via GridSearchCV \n",
    "Below, I tuned the hyperparameters of three classifiers:\n",
    "- Logistic Regressor\n",
    "- Decision Tree Classifier\n",
    "- Random Forest Classifier  \n",
    "  \n",
    "I later used these best parameters & compared each classifier's performance on the same set of testing data to find the model which returned the highest recall."
   ]
  },
  {
   "cell_type": "markdown",
   "metadata": {},
   "source": [
    "*Step 2:* Model Comparison"
   ]
  },
  {
   "cell_type": "code",
   "execution_count": 43,
   "metadata": {},
   "outputs": [],
   "source": [
    "one_hot = OneHotEncoder()\n",
    "transformed_training_data = pd.DataFrame(\n",
    "    one_hot.fit_transform(X_train_filled[final_features]).toarray()\n",
    ")"
   ]
  },
  {
   "cell_type": "code",
   "execution_count": 71,
   "metadata": {},
   "outputs": [
    {
     "data": {
      "text/plain": [
       "GridSearchCV(cv=5, estimator=LogisticRegression(),\n",
       "             param_grid={'C': [0.01, 0.1, 1, 10, 100],\n",
       "                         'max_iter': range(600, 800, 100)},\n",
       "             scoring='recall')"
      ]
     },
     "execution_count": 71,
     "metadata": {},
     "output_type": "execute_result"
    }
   ],
   "source": [
    "# -----------------------\n",
    "# LOGISTIC REGRESSOR\n",
    "# -----------------------\n",
    "log_hyperparams = {\n",
    "    'C': [0.01,0.1,1,10,100], # how heavily weighted the training data is in tuning the parameters\n",
    "    'max_iter': range(600, 800, 100) # number of iterations\n",
    "} \n",
    "    \n",
    "log_searcher = GridSearchCV(LogisticRegression(), log_hyperparams, cv=5, scoring='recall')\n",
    "\n",
    "log_searcher.fit(transformed_training_data, y_train)"
   ]
  },
  {
   "cell_type": "code",
   "execution_count": 45,
   "metadata": {},
   "outputs": [
    {
     "data": {
      "text/plain": [
       "GridSearchCV(cv=5, estimator=DecisionTreeClassifier(),\n",
       "             param_grid={'criterion': ['gini', 'entropy'],\n",
       "                         'max_depth': [2, 3, 4, 5, 7, 10, 13, 15, 18, None],\n",
       "                         'min_samples_split': [2, 3, 5, 7, 10, 15, 20]},\n",
       "             scoring='recall')"
      ]
     },
     "execution_count": 45,
     "metadata": {},
     "output_type": "execute_result"
    }
   ],
   "source": [
    "# -----------------------\n",
    "# DECISION TREE CLASSIFIER\n",
    "# -----------------------\n",
    "dectree_hyperparams = {\n",
    "    'max_depth': [2, 3, 4, 5, 7, 10, 13, 15, 18, None], \n",
    "    'min_samples_split': [2, 3, 5, 7, 10, 15, 20],\n",
    "    'criterion': ['gini', 'entropy']\n",
    "}\n",
    "\n",
    "dectree_searcher = GridSearchCV(DecisionTreeClassifier(), dectree_hyperparams, cv=5, scoring='recall')\n",
    "\n",
    "dectree_searcher.fit(transformed_training_data, y_train)"
   ]
  },
  {
   "cell_type": "code",
   "execution_count": 46,
   "metadata": {},
   "outputs": [
    {
     "data": {
      "text/plain": [
       "GridSearchCV(cv=5, estimator=RandomForestClassifier(),\n",
       "             param_grid={'bootstrap': [True, False],\n",
       "                         'max_depth': [2, 5, 7, 10, 15, 18, None],\n",
       "                         'n_estimators': [20, 60, 100, 140, 180]},\n",
       "             scoring='recall')"
      ]
     },
     "execution_count": 46,
     "metadata": {},
     "output_type": "execute_result"
    }
   ],
   "source": [
    "# -----------------------\n",
    "# RANDOM FOREST CLASSIFIER\n",
    "# -----------------------\n",
    "rf_hyperparams = {\n",
    "    'n_estimators': [20, 60, 100, 140, 180],\n",
    "    'max_depth': [2, 5, 7, 10, 15, 18, None],\n",
    "    'bootstrap': [True, False]\n",
    "}\n",
    "\n",
    "rf_searcher = GridSearchCV(RandomForestClassifier(), rf_hyperparams, cv=5, scoring='recall')\n",
    "\n",
    "rf_searcher.fit(transformed_training_data, y_train)"
   ]
  },
  {
   "cell_type": "code",
   "execution_count": 72,
   "metadata": {},
   "outputs": [
    {
     "name": "stdout",
     "output_type": "stream",
     "text": [
      "best parameters:\n",
      "log regression: {'C': 100, 'max_iter': 600}\n",
      "decision tree classifier:{'criterion': 'gini', 'max_depth': None, 'min_samples_split': 2}\n",
      "random forest:{'bootstrap': True, 'max_depth': None, 'n_estimators': 20}\n"
     ]
    }
   ],
   "source": [
    "print('best parameters:')\n",
    "print(f'log regression: {log_searcher.best_params_}')\n",
    "print(f'decision tree classifier:{dectree_searcher.best_params_}')\n",
    "print(f'random forest:{rf_searcher.best_params_}')"
   ]
  },
  {
   "cell_type": "markdown",
   "metadata": {},
   "source": [
    "##### III. Model Selection"
   ]
  },
  {
   "cell_type": "code",
   "execution_count": 130,
   "metadata": {},
   "outputs": [],
   "source": [
    "def find_best(models):\n",
    "    '''returns fitted model with highest recall'''\n",
    "    max_recall = 0\n",
    "    best_model = models[0]\n",
    "    y_pred_final = np.array([])\n",
    "    \n",
    "    for model in models:\n",
    "        # create a pipeline of the transformers and estimator\n",
    "        pl = Pipeline([\n",
    "            ('one-hot', OneHotEncoder(handle_unknown='ignore')),\n",
    "            ('estimator', model)\n",
    "        ])\n",
    "\n",
    "\n",
    "        # fit the model to training data\n",
    "        fitted_model = pl.fit(X_train_filled[final_features], y_train)\n",
    "\n",
    "        # make predictions\n",
    "        if isinstance(model, LogisticRegression):\n",
    "            # find predictions at threshold 0.3\n",
    "            y_probs = fitted_model.predict_proba(X_test[final_features])[: ,1]\n",
    "            y_pred = np.array([1 if y_prob > 0.3 else 0 for y_prob in y_probs])\n",
    "        else:\n",
    "            y_pred = fitted_model.predict(X_test[final_features])\n",
    "        \n",
    "        # find recall\n",
    "        recall = recall_score(y_test, y_pred)\n",
    "        print(recall)\n",
    "        \n",
    "        # return fitted model with highest recall\n",
    "        if recall > max_recall:\n",
    "            max_recall = recall\n",
    "            best_model = fitted_model\n",
    "            y_pred_final = y_pred\n",
    "        \n",
    "    return best_model, y_pred_final"
   ]
  },
  {
   "cell_type": "code",
   "execution_count": 131,
   "metadata": {},
   "outputs": [],
   "source": [
    "# fitted models with tuned hyperparams\n",
    "models = [\n",
    "    LogisticRegression(C=100, max_iter=600),\n",
    "    DecisionTreeClassifier(criterion='gini', max_depth=None, min_samples_split=2),\n",
    "    RandomForestClassifier(bootstrap=True, max_depth=None, n_estimators=20)\n",
    "]"
   ]
  },
  {
   "cell_type": "code",
   "execution_count": 132,
   "metadata": {
    "scrolled": true
   },
   "outputs": [
    {
     "name": "stdout",
     "output_type": "stream",
     "text": [
      "0.5438908659549229\n",
      "0.2912218268090154\n",
      "0.2900355871886121\n"
     ]
    }
   ],
   "source": [
    "best_model, y_pred_final = find_best(models)"
   ]
  },
  {
   "cell_type": "code",
   "execution_count": 133,
   "metadata": {
    "scrolled": false
   },
   "outputs": [
    {
     "name": "stdout",
     "output_type": "stream",
     "text": [
      "best model: LogisticRegression(C=100, max_iter=600)\n",
      "recall: 0.5438908659549229\n",
      "precision: 0.4251274918868799\n",
      "accuracy: 0.711764705882353\n"
     ]
    }
   ],
   "source": [
    "model_type = best_model.named_steps['estimator']\n",
    "print(f'best model: {model_type}')\n",
    "print(f'recall: {recall_score(y_test, y_pred_final)}')\n",
    "print(f'precision: {precision_score(y_test, y_pred_final)}')\n",
    "print(f'accuracy: {accuracy_score(y_test, y_pred_final)}')"
   ]
  },
  {
   "cell_type": "markdown",
   "metadata": {},
   "source": [
    "*Step 3:* Conclusion  \n",
    "\n",
    " After tuning the hyperparameters of three models and fitting them to the training data, the Random Forest Classifier performed best (with respect to recall) in predicting CCRB disposition when given the test dataset. "
   ]
  },
  {
   "cell_type": "markdown",
   "metadata": {},
   "source": [
    "### Fairness Analysis"
   ]
  },
  {
   "cell_type": "markdown",
   "metadata": {},
   "source": [
    "Black complainants make up the largest category of complainants and are typically over-represented in cases of police brutality. Does the model perform differently for Black and non-Black complainants?\n",
    "\n",
    "**Null Hypothesis:** The model is fair. Its recall for Black complainants and non-Black complainants are roughly the same, and any differences are due to random chance.\n",
    "\n",
    "**Alternative Hypothesis:** The model is unfair. Its recall for Black complainants and non-Black complainants are not the same. "
   ]
  },
  {
   "cell_type": "code",
   "execution_count": 134,
   "metadata": {},
   "outputs": [],
   "source": [
    "# we will be assessing the recall for the testing set\n",
    "results = X_test \n",
    "results['prediction'] = y_pred_final\n",
    "results['tag'] = y_test\n",
    "\n",
    "# groups: Black Complainants and non-Black Complainants\n",
    "results['complainant_binary_ethnicity'] = (results.complainant_ethnicity == 'Black').replace({True: 'Black', False: 'Other'})"
   ]
  },
  {
   "cell_type": "code",
   "execution_count": 135,
   "metadata": {},
   "outputs": [
    {
     "data": {
      "text/html": [
       "<div>\n",
       "<style scoped>\n",
       "    .dataframe tbody tr th:only-of-type {\n",
       "        vertical-align: middle;\n",
       "    }\n",
       "\n",
       "    .dataframe tbody tr th {\n",
       "        vertical-align: top;\n",
       "    }\n",
       "\n",
       "    .dataframe thead th {\n",
       "        text-align: right;\n",
       "    }\n",
       "</style>\n",
       "<table border=\"1\" class=\"dataframe\">\n",
       "  <thead>\n",
       "    <tr style=\"text-align: right;\">\n",
       "      <th></th>\n",
       "      <th>recall</th>\n",
       "    </tr>\n",
       "    <tr>\n",
       "      <th>complainant_binary_ethnicity</th>\n",
       "      <th></th>\n",
       "    </tr>\n",
       "  </thead>\n",
       "  <tbody>\n",
       "    <tr>\n",
       "      <th>Black</th>\n",
       "      <td>0.544892</td>\n",
       "    </tr>\n",
       "    <tr>\n",
       "      <th>Other</th>\n",
       "      <td>0.542538</td>\n",
       "    </tr>\n",
       "  </tbody>\n",
       "</table>\n",
       "</div>"
      ],
      "text/plain": [
       "                                recall\n",
       "complainant_binary_ethnicity          \n",
       "Black                         0.544892\n",
       "Other                         0.542538"
      ]
     },
     "execution_count": 135,
     "metadata": {},
     "output_type": "execute_result"
    }
   ],
   "source": [
    "# grouping by Black and non-Black complainants to compare each \n",
    "# aggregate's recall score\n",
    "obs_recalls = (\n",
    "    results\n",
    "    .groupby('complainant_binary_ethnicity')\n",
    "    .apply(lambda x: metrics.recall_score(x['tag'], x['prediction']))\n",
    "    .rename('recall')\n",
    "    .to_frame()\n",
    ")\n",
    "obs_recalls"
   ]
  },
  {
   "cell_type": "code",
   "execution_count": 136,
   "metadata": {},
   "outputs": [
    {
     "data": {
      "text/plain": [
       "-0.002353286613037575"
      ]
     },
     "execution_count": 136,
     "metadata": {},
     "output_type": "execute_result"
    }
   ],
   "source": [
    "# observed difference in recall score between Black and non-Black complainants\n",
    "obs_diff = obs_recalls.diff().iloc[-1]['recall']\n",
    "obs_diff"
   ]
  },
  {
   "cell_type": "code",
   "execution_count": 137,
   "metadata": {},
   "outputs": [],
   "source": [
    "diff_in_recall = []\n",
    "for _ in range(100):\n",
    "    s = (\n",
    "        # filter for information necessary to calculate test data recall score\n",
    "        results[['complainant_binary_ethnicity', 'prediction', 'tag']] \n",
    "        \n",
    "        # randomly assign ethnicity (Black or Other) to each complaint\n",
    "        .assign(is_black=results.complainant_binary_ethnicity.sample(frac=1.0, replace=False).reset_index(drop=True))\n",
    "        \n",
    "        # calculate difference in recall score between simulated Black and non-Black complainants\n",
    "        .groupby('is_black')\n",
    "        .apply(lambda x: metrics.recall_score(x['tag'], x['prediction']))\n",
    "        .diff()\n",
    "        .iloc[-1]\n",
    "    )\n",
    "    \n",
    "    diff_in_recall.append(s)"
   ]
  },
  {
   "cell_type": "code",
   "execution_count": 138,
   "metadata": {},
   "outputs": [
    {
     "data": {
      "image/png": "[encoded data removed]",
      "text/plain": [
       "<Figure size 720x360 with 1 Axes>"
      ]
     },
     "metadata": {
      "image/png": {
       "height": 318,
       "width": 605
      },
      "needs_background": "light"
     },
     "output_type": "display_data"
    }
   ],
   "source": [
    "plt.figure(figsize=(10, 5))\n",
    "pd.Series(diff_in_recall).plot(kind='hist', ec='w', density=True, bins=15, title='Difference in Recall (Other - Black)')\n",
    "plt.axvline(x=obs_diff, color='red', label='observed difference in recall')\n",
    "plt.legend(loc='upper left');"
   ]
  },
  {
   "cell_type": "code",
   "execution_count": 139,
   "metadata": {},
   "outputs": [
    {
     "data": {
      "text/plain": [
       "0.51"
      ]
     },
     "execution_count": 139,
     "metadata": {},
     "output_type": "execute_result"
    }
   ],
   "source": [
    "# p-value: probability of observed difference under the null hypothesis\n",
    "# greater than alpha=0.05\n",
    "np.mean(diff_in_recall >= obs_diff)"
   ]
  }
 ],
 "metadata": {
  "kernelspec": {
   "display_name": "Python 3 (ipykernel)",
   "language": "python",
   "name": "python3"
  },
  "language_info": {
   "codemirror_mode": {
    "name": "ipython",
    "version": 3
   },
   "file_extension": ".py",
   "mimetype": "text/x-python",
   "name": "python",
   "nbconvert_exporter": "python",
   "pygments_lexer": "ipython3",
   "version": "3.8.13"
  }
 },
 "nbformat": 4,
 "nbformat_minor": 2
}
